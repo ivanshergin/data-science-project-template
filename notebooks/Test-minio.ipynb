{
 "cells": [
  {
   "cell_type": "code",
   "execution_count": 2,
   "id": "b994a3ae-b8c2-4fb4-8d0f-dcc44712084c",
   "metadata": {},
   "outputs": [],
   "source": [
    "import os\n",
    "import json\n",
    "import boto3"
   ]
  },
  {
   "cell_type": "code",
   "execution_count": 3,
   "id": "37d04932-5e3b-416a-83d4-e661ee0ee0d9",
   "metadata": {},
   "outputs": [
    {
     "data": {
      "text/plain": [
       "('minio_aws_key', 'minio_aws_access_key', 'http://minio:9000')"
      ]
     },
     "execution_count": 3,
     "metadata": {},
     "output_type": "execute_result"
    }
   ],
   "source": [
    "AWS_ACCESS_KEY_ID = os.getenv(\"AWS_ACCESS_KEY_ID\")\n",
    "AWS_SECRET_ACCESS_KEY = os.getenv(\"AWS_SECRET_ACCESS_KEY\")\n",
    "S3_ENDPOINT_URL = os.getenv('S3_ENDPOINT_URL')\n",
    "\n",
    "AWS_ACCESS_KEY_ID, AWS_SECRET_ACCESS_KEY, S3_ENDPOINT_URL"
   ]
  },
  {
   "cell_type": "code",
   "execution_count": 4,
   "id": "0ad81c1d-f873-49ff-a58d-e9c8d6e71acb",
   "metadata": {},
   "outputs": [],
   "source": [
    "s3 = boto3.client(\n",
    "    's3',\n",
    "    endpoint_url=S3_ENDPOINT_URL,\n",
    "    aws_access_key_id=AWS_ACCESS_KEY_ID,\n",
    "    aws_secret_access_key=AWS_SECRET_ACCESS_KEY\n",
    ")"
   ]
  },
  {
   "cell_type": "code",
   "execution_count": 5,
   "id": "250d8061-0dc4-4539-8802-10efab002346",
   "metadata": {},
   "outputs": [],
   "source": [
    "BUCKET_NAME = 'test-data'"
   ]
  },
  {
   "cell_type": "code",
   "execution_count": 6,
   "id": "8c23a200-1d27-4ab0-83ff-c15b72c71275",
   "metadata": {},
   "outputs": [
    {
     "data": {
      "text/plain": [
       "[]"
      ]
     },
     "execution_count": 6,
     "metadata": {},
     "output_type": "execute_result"
    }
   ],
   "source": [
    "s3.list_buckets()['Buckets']"
   ]
  },
  {
   "cell_type": "code",
   "execution_count": 7,
   "id": "3b7358db-bd41-485b-a99c-d8f5e77b56e8",
   "metadata": {},
   "outputs": [
    {
     "data": {
      "text/plain": [
       "{'ResponseMetadata': {'RequestId': '1831951BCBA407C7',\n",
       "  'HostId': 'dd9025bab4ad464b049177c95eb6ebf374d3b3fd1af9251148b658df7ac2e3e8',\n",
       "  'HTTPStatusCode': 200,\n",
       "  'HTTPHeaders': {'accept-ranges': 'bytes',\n",
       "   'content-length': '0',\n",
       "   'location': '/test-data',\n",
       "   'server': 'MinIO',\n",
       "   'strict-transport-security': 'max-age=31536000; includeSubDomains',\n",
       "   'vary': 'Origin, Accept-Encoding',\n",
       "   'x-amz-id-2': 'dd9025bab4ad464b049177c95eb6ebf374d3b3fd1af9251148b658df7ac2e3e8',\n",
       "   'x-amz-request-id': '1831951BCBA407C7',\n",
       "   'x-content-type-options': 'nosniff',\n",
       "   'x-ratelimit-limit': '10865',\n",
       "   'x-ratelimit-remaining': '10865',\n",
       "   'x-xss-protection': '1; mode=block',\n",
       "   'date': 'Sun, 30 Mar 2025 12:41:17 GMT'},\n",
       "  'RetryAttempts': 0},\n",
       " 'Location': '/test-data'}"
      ]
     },
     "execution_count": 7,
     "metadata": {},
     "output_type": "execute_result"
    }
   ],
   "source": [
    "s3.create_bucket(Bucket=BUCKET_NAME,)"
   ]
  },
  {
   "cell_type": "code",
   "execution_count": 8,
   "id": "d5c26374-ba88-4bd8-a50b-96f869604134",
   "metadata": {},
   "outputs": [
    {
     "data": {
      "text/plain": [
       "[{'Name': 'test-data',\n",
       "  'CreationDate': datetime.datetime(2025, 3, 30, 12, 41, 17, 382000, tzinfo=tzlocal())}]"
      ]
     },
     "execution_count": 8,
     "metadata": {},
     "output_type": "execute_result"
    }
   ],
   "source": [
    "s3.list_buckets()['Buckets']"
   ]
  },
  {
   "cell_type": "code",
   "execution_count": 9,
   "id": "b96f8e4c-fbc1-4f19-bff7-0fe5f0ffc9fd",
   "metadata": {},
   "outputs": [],
   "source": [
    "filename = \"test.txt\""
   ]
  },
  {
   "cell_type": "code",
   "execution_count": 10,
   "id": "f279c932-8f18-4a46-9db9-47cf9fdd0d91",
   "metadata": {},
   "outputs": [],
   "source": [
    "with open(filename, \"w\") as file:\n",
    "    file.write(\"Hello, world!\")\n",
    "    file.write(\"\\nEOF\")"
   ]
  },
  {
   "cell_type": "code",
   "execution_count": 11,
   "id": "cd60aac1-2c59-4a53-be3c-e782964d7574",
   "metadata": {},
   "outputs": [
    {
     "name": "stdout",
     "output_type": "stream",
     "text": [
      "Hello, world!\n",
      "EOF"
     ]
    }
   ],
   "source": [
    "cat $filename"
   ]
  },
  {
   "cell_type": "code",
   "execution_count": 12,
   "id": "e082bb93-61bf-434f-a5b2-932c7cf360d6",
   "metadata": {},
   "outputs": [],
   "source": [
    "s3.upload_file(\n",
    "    Filename=filename,\n",
    "    Bucket=BUCKET_NAME,\n",
    "    Key=filename\n",
    ")"
   ]
  },
  {
   "cell_type": "code",
   "execution_count": 13,
   "id": "ed865d87-348e-4ee1-a2ea-9a561c8e2ac7",
   "metadata": {},
   "outputs": [],
   "source": [
    "objects = s3.list_objects_v2(Bucket=BUCKET_NAME)"
   ]
  },
  {
   "cell_type": "code",
   "execution_count": 14,
   "id": "fc572a88-cf40-45c8-96cf-cce4a54d003b",
   "metadata": {},
   "outputs": [
    {
     "data": {
      "text/plain": [
       "[{'Key': 'test.txt',\n",
       "  'LastModified': datetime.datetime(2025, 3, 30, 12, 41, 39, 525000, tzinfo=tzlocal()),\n",
       "  'ETag': '\"1da7ce17603cda839e946ba80c71d8e3\"',\n",
       "  'Size': 17,\n",
       "  'StorageClass': 'STANDARD'}]"
      ]
     },
     "execution_count": 14,
     "metadata": {},
     "output_type": "execute_result"
    }
   ],
   "source": [
    "objects['Contents']"
   ]
  },
  {
   "cell_type": "code",
   "execution_count": 15,
   "id": "d51f61dc-89cc-4509-a685-808e6698a43e",
   "metadata": {},
   "outputs": [
    {
     "name": "stdout",
     "output_type": "stream",
     "text": [
      "dict_keys(['ResponseMetadata', 'AcceptRanges', 'LastModified', 'ContentLength', 'ETag', 'ContentType', 'Metadata', 'Body'])\n",
      "Hello, world!\n",
      "EOF\n"
     ]
    }
   ],
   "source": [
    "bucket_data = s3.get_object(\n",
    "    Bucket=BUCKET_NAME,\n",
    "    Key=filename\n",
    ")\n",
    "print(bucket_data.keys())\n",
    "data = bucket_data['Body'].read().decode('utf-8')\n",
    "print(data)"
   ]
  },
  {
   "cell_type": "code",
   "execution_count": 16,
   "id": "9f5af5b0-c83e-48c2-afc7-15c8027cb803",
   "metadata": {},
   "outputs": [
    {
     "data": {
      "text/plain": [
       "{'ResponseMetadata': {'RequestId': '183195255A958F80',\n",
       "  'HostId': 'dd9025bab4ad464b049177c95eb6ebf374d3b3fd1af9251148b658df7ac2e3e8',\n",
       "  'HTTPStatusCode': 204,\n",
       "  'HTTPHeaders': {'accept-ranges': 'bytes',\n",
       "   'server': 'MinIO',\n",
       "   'strict-transport-security': 'max-age=31536000; includeSubDomains',\n",
       "   'vary': 'Origin, Accept-Encoding',\n",
       "   'x-amz-id-2': 'dd9025bab4ad464b049177c95eb6ebf374d3b3fd1af9251148b658df7ac2e3e8',\n",
       "   'x-amz-request-id': '183195255A958F80',\n",
       "   'x-content-type-options': 'nosniff',\n",
       "   'x-ratelimit-limit': '10865',\n",
       "   'x-ratelimit-remaining': '10865',\n",
       "   'x-xss-protection': '1; mode=block',\n",
       "   'date': 'Sun, 30 Mar 2025 12:41:58 GMT'},\n",
       "  'RetryAttempts': 0}}"
      ]
     },
     "execution_count": 16,
     "metadata": {},
     "output_type": "execute_result"
    }
   ],
   "source": [
    "s3.delete_object(\n",
    "    Bucket=BUCKET_NAME,\n",
    "    Key=filename\n",
    ")"
   ]
  },
  {
   "cell_type": "code",
   "execution_count": 17,
   "id": "657acf49-726f-4d78-b201-240e255e9089",
   "metadata": {},
   "outputs": [
    {
     "data": {
      "text/plain": [
       "{'ResponseMetadata': {'RequestId': '183195266F3C17CB',\n",
       "  'HostId': 'dd9025bab4ad464b049177c95eb6ebf374d3b3fd1af9251148b658df7ac2e3e8',\n",
       "  'HTTPStatusCode': 200,\n",
       "  'HTTPHeaders': {'accept-ranges': 'bytes',\n",
       "   'content-length': '272',\n",
       "   'content-type': 'application/xml',\n",
       "   'server': 'MinIO',\n",
       "   'strict-transport-security': 'max-age=31536000; includeSubDomains',\n",
       "   'vary': 'Origin, Accept-Encoding',\n",
       "   'x-amz-id-2': 'dd9025bab4ad464b049177c95eb6ebf374d3b3fd1af9251148b658df7ac2e3e8',\n",
       "   'x-amz-request-id': '183195266F3C17CB',\n",
       "   'x-content-type-options': 'nosniff',\n",
       "   'x-ratelimit-limit': '10865',\n",
       "   'x-ratelimit-remaining': '10865',\n",
       "   'x-xss-protection': '1; mode=block',\n",
       "   'date': 'Sun, 30 Mar 2025 12:42:03 GMT'},\n",
       "  'RetryAttempts': 0},\n",
       " 'IsTruncated': False,\n",
       " 'Name': 'test-data',\n",
       " 'Prefix': '',\n",
       " 'MaxKeys': 1000,\n",
       " 'EncodingType': 'url',\n",
       " 'KeyCount': 0}"
      ]
     },
     "execution_count": 17,
     "metadata": {},
     "output_type": "execute_result"
    }
   ],
   "source": [
    "objects = s3.list_objects_v2(Bucket=BUCKET_NAME)\n",
    "objects"
   ]
  },
  {
   "cell_type": "code",
   "execution_count": 18,
   "id": "49088a9c-4400-421e-ab67-2913dde37fef",
   "metadata": {},
   "outputs": [
    {
     "data": {
      "text/plain": [
       "{'ResponseMetadata': {'RequestId': '18319527609D0F40',\n",
       "  'HostId': 'dd9025bab4ad464b049177c95eb6ebf374d3b3fd1af9251148b658df7ac2e3e8',\n",
       "  'HTTPStatusCode': 204,\n",
       "  'HTTPHeaders': {'accept-ranges': 'bytes',\n",
       "   'server': 'MinIO',\n",
       "   'strict-transport-security': 'max-age=31536000; includeSubDomains',\n",
       "   'vary': 'Origin, Accept-Encoding',\n",
       "   'x-amz-id-2': 'dd9025bab4ad464b049177c95eb6ebf374d3b3fd1af9251148b658df7ac2e3e8',\n",
       "   'x-amz-request-id': '18319527609D0F40',\n",
       "   'x-content-type-options': 'nosniff',\n",
       "   'x-ratelimit-limit': '10865',\n",
       "   'x-ratelimit-remaining': '10865',\n",
       "   'x-xss-protection': '1; mode=block',\n",
       "   'date': 'Sun, 30 Mar 2025 12:42:07 GMT'},\n",
       "  'RetryAttempts': 0}}"
      ]
     },
     "execution_count": 18,
     "metadata": {},
     "output_type": "execute_result"
    }
   ],
   "source": [
    "s3.delete_bucket(Bucket=BUCKET_NAME)"
   ]
  },
  {
   "cell_type": "code",
   "execution_count": 19,
   "id": "49774652-4369-48bd-95d6-61e929213254",
   "metadata": {},
   "outputs": [],
   "source": [
    "rm $filename"
   ]
  },
  {
   "cell_type": "code",
   "execution_count": 20,
   "id": "f1bcb2fe-f8ae-401f-8ab8-11c6548c3235",
   "metadata": {},
   "outputs": [
    {
     "data": {
      "text/plain": [
       "[]"
      ]
     },
     "execution_count": 20,
     "metadata": {},
     "output_type": "execute_result"
    }
   ],
   "source": [
    "s3.list_buckets()['Buckets']"
   ]
  },
  {
   "cell_type": "code",
   "execution_count": null,
   "id": "2d701f0f-d805-4f95-8432-a703e73e540f",
   "metadata": {},
   "outputs": [],
   "source": []
  },
  {
   "cell_type": "code",
   "execution_count": 2,
   "id": "59e96a72-e533-4510-9737-3f8ca1ada3cb",
   "metadata": {},
   "outputs": [
    {
     "data": {
      "text/plain": [
       "('minioadmin', 'minioadmin', 'userfiles', 'http://minio:9000')"
      ]
     },
     "execution_count": 2,
     "metadata": {},
     "output_type": "execute_result"
    }
   ],
   "source": [
    "AWS_ACCESS_KEY_ID = os.getenv(\"AWS_ACCESS_KEY_ID\")\n",
    "AWS_SECRET_ACCESS_KEY = os.getenv(\"AWS_SECRET_ACCESS_KEY\")\n",
    "AWS_S3_BUCKET_MLFLOW = os.getenv(\"AWS_S3_BUCKET_MLFLOW\")\n",
    "MLFLOW_S3_ENDPOINT_URL = os.getenv('MLFLOW_S3_ENDPOINT_URL')\n",
    "\n",
    "AWS_ACCESS_KEY_ID, AWS_SECRET_ACCESS_KEY, AWS_S3_BUCKET_MLFLOW, MLFLOW_S3_ENDPOINT_URL"
   ]
  },
  {
   "cell_type": "code",
   "execution_count": 10,
   "id": "360cd0a5-0c39-4427-b626-8d098aef5b71",
   "metadata": {},
   "outputs": [],
   "source": [
    "s3 = boto3.client('s3',\n",
    "                  endpoint_url=MLFLOW_S3_ENDPOINT_URL,\n",
    "                  aws_access_key_id=AWS_ACCESS_KEY_ID,\n",
    "                  aws_secret_access_key=AWS_SECRET_ACCESS_KEY)\n",
    "objects = s3.list_objects_v2(Bucket=AWS_S3_BUCKET_MLFLOW)"
   ]
  },
  {
   "cell_type": "code",
   "execution_count": 11,
   "id": "c85966b8-d584-42c7-87a9-9b360758de1c",
   "metadata": {},
   "outputs": [
    {
     "name": "stdout",
     "output_type": "stream",
     "text": [
      "1/7a5a03c3973944d4ae38b82a64e8485c/artifacts/test.txt\n",
      "dict_keys(['ResponseMetadata', 'AcceptRanges', 'LastModified', 'ContentLength', 'ETag', 'ContentType', 'Metadata', 'Body'])\n",
      "hello_world\n",
      "\n",
      "1/7a5a03c3973944d4ae38b82a64e8485c/artifacts/test22222.txt\n",
      "dict_keys(['ResponseMetadata', 'AcceptRanges', 'LastModified', 'ContentLength', 'ETag', 'ContentType', 'Metadata', 'Body'])\n",
      "hello_world\n",
      "\n",
      "1/7a5a03c3973944d4ae38b82a64e8485c/artifacts/testX.txt\n",
      "dict_keys(['ResponseMetadata', 'AcceptRanges', 'LastModified', 'ContentLength', 'ETag', 'ContentType', 'Metadata', 'Body'])\n",
      "\n",
      "        ПОЛУЧИЛОСЬ ПРОКИНУТЬ АРТЕФАКТ В МЛФЛОУ И С3\n",
      "        \n",
      "\n",
      "1/9d9b386d2a38483ebc8f0e6a3d106e7d/artifacts/test.txt\n",
      "dict_keys(['ResponseMetadata', 'AcceptRanges', 'LastModified', 'ContentLength', 'ETag', 'ContentType', 'Metadata', 'Body'])\n",
      "hello_world\n",
      "\n",
      "1/c80ee8cf73fa430eae48f0483fa827a1/artifacts/test.txt\n",
      "dict_keys(['ResponseMetadata', 'AcceptRanges', 'LastModified', 'ContentLength', 'ETag', 'ContentType', 'Metadata', 'Body'])\n",
      "hello_world\n",
      "\n",
      "1/c80ee8cf73fa430eae48f0483fa827a1/artifacts/test22222.txt\n",
      "dict_keys(['ResponseMetadata', 'AcceptRanges', 'LastModified', 'ContentLength', 'ETag', 'ContentType', 'Metadata', 'Body'])\n",
      "hello_world\n",
      "\n",
      "1/ebd4dbceeb6340fdbe8b1dd55bd7f13a/artifacts/test.txt\n",
      "dict_keys(['ResponseMetadata', 'AcceptRanges', 'LastModified', 'ContentLength', 'ETag', 'ContentType', 'Metadata', 'Body'])\n",
      "hello_world\n",
      "\n",
      "1/ebd4dbceeb6340fdbe8b1dd55bd7f13a/artifacts/test22222.txt\n",
      "dict_keys(['ResponseMetadata', 'AcceptRanges', 'LastModified', 'ContentLength', 'ETag', 'ContentType', 'Metadata', 'Body'])\n",
      "hello_world\n",
      "\n",
      "1/ebd4dbceeb6340fdbe8b1dd55bd7f13a/artifacts/testX.txt\n",
      "dict_keys(['ResponseMetadata', 'AcceptRanges', 'LastModified', 'ContentLength', 'ETag', 'ContentType', 'Metadata', 'Body'])\n",
      "hello_world\n",
      "\n"
     ]
    }
   ],
   "source": [
    "if 'Contents' in objects:\n",
    "    for obj in objects['Contents']:\n",
    "        print(obj['Key'])\n",
    "        bucket_data = s3.get_object(Bucket=AWS_S3_BUCKET_MLFLOW,\n",
    "                                    Key=obj['Key'])\n",
    "        print(bucket_data.keys())\n",
    "        data = bucket_data['Body'].read().decode('utf-8')\n",
    "        print(data)\n",
    "        print()"
   ]
  },
  {
   "cell_type": "code",
   "execution_count": 5,
   "id": "8135c2c5-b337-4998-9a63-459055fbeb32",
   "metadata": {},
   "outputs": [
    {
     "name": "stdout",
     "output_type": "stream",
     "text": [
      "Buckets:\n",
      "  userfiles\n"
     ]
    }
   ],
   "source": [
    "response = s3.list_buckets()\n",
    "print(\"Buckets:\")\n",
    "for bucket in response['Buckets']:\n",
    "    print(f'  {bucket[\"Name\"]}')"
   ]
  },
  {
   "cell_type": "code",
   "execution_count": null,
   "id": "8ac3eff6-62ca-45ae-b9fb-ef9e8d09a354",
   "metadata": {},
   "outputs": [],
   "source": []
  }
 ],
 "metadata": {
  "kernelspec": {
   "display_name": "Python 3 (ipykernel)",
   "language": "python",
   "name": "python3"
  },
  "language_info": {
   "codemirror_mode": {
    "name": "ipython",
    "version": 3
   },
   "file_extension": ".py",
   "mimetype": "text/x-python",
   "name": "python",
   "nbconvert_exporter": "python",
   "pygments_lexer": "ipython3",
   "version": "3.11.6"
  }
 },
 "nbformat": 4,
 "nbformat_minor": 5
}
