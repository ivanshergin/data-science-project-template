{
 "cells": [
  {
   "cell_type": "code",
   "execution_count": 1,
   "id": "b994a3ae-b8c2-4fb4-8d0f-dcc44712084c",
   "metadata": {},
   "outputs": [],
   "source": [
    "import os\n",
    "import json\n",
    "import boto3"
   ]
  },
  {
   "cell_type": "code",
   "execution_count": 2,
   "id": "59e96a72-e533-4510-9737-3f8ca1ada3cb",
   "metadata": {},
   "outputs": [
    {
     "data": {
      "text/plain": [
       "('minioadmin', 'minioadmin', 'userfiles', 'http://minio:9000')"
      ]
     },
     "execution_count": 2,
     "metadata": {},
     "output_type": "execute_result"
    }
   ],
   "source": [
    "AWS_ACCESS_KEY_ID = os.getenv(\"AWS_ACCESS_KEY_ID\")\n",
    "AWS_SECRET_ACCESS_KEY = os.getenv(\"AWS_SECRET_ACCESS_KEY\")\n",
    "AWS_S3_BUCKET_MLFLOW = os.getenv(\"AWS_S3_BUCKET_MLFLOW\")\n",
    "MLFLOW_S3_ENDPOINT_URL = os.getenv('MLFLOW_S3_ENDPOINT_URL')\n",
    "\n",
    "AWS_ACCESS_KEY_ID, AWS_SECRET_ACCESS_KEY, AWS_S3_BUCKET_MLFLOW, MLFLOW_S3_ENDPOINT_URL"
   ]
  },
  {
   "cell_type": "code",
   "execution_count": 10,
   "id": "360cd0a5-0c39-4427-b626-8d098aef5b71",
   "metadata": {},
   "outputs": [],
   "source": [
    "s3 = boto3.client('s3',\n",
    "                  endpoint_url=MLFLOW_S3_ENDPOINT_URL,\n",
    "                  aws_access_key_id=AWS_ACCESS_KEY_ID,\n",
    "                  aws_secret_access_key=AWS_SECRET_ACCESS_KEY)\n",
    "objects = s3.list_objects_v2(Bucket=AWS_S3_BUCKET_MLFLOW)"
   ]
  },
  {
   "cell_type": "code",
   "execution_count": 11,
   "id": "c85966b8-d584-42c7-87a9-9b360758de1c",
   "metadata": {},
   "outputs": [
    {
     "name": "stdout",
     "output_type": "stream",
     "text": [
      "1/7a5a03c3973944d4ae38b82a64e8485c/artifacts/test.txt\n",
      "dict_keys(['ResponseMetadata', 'AcceptRanges', 'LastModified', 'ContentLength', 'ETag', 'ContentType', 'Metadata', 'Body'])\n",
      "hello_world\n",
      "\n",
      "1/7a5a03c3973944d4ae38b82a64e8485c/artifacts/test22222.txt\n",
      "dict_keys(['ResponseMetadata', 'AcceptRanges', 'LastModified', 'ContentLength', 'ETag', 'ContentType', 'Metadata', 'Body'])\n",
      "hello_world\n",
      "\n",
      "1/7a5a03c3973944d4ae38b82a64e8485c/artifacts/testX.txt\n",
      "dict_keys(['ResponseMetadata', 'AcceptRanges', 'LastModified', 'ContentLength', 'ETag', 'ContentType', 'Metadata', 'Body'])\n",
      "\n",
      "        ПОЛУЧИЛОСЬ ПРОКИНУТЬ АРТЕФАКТ В МЛФЛОУ И С3\n",
      "        \n",
      "\n",
      "1/9d9b386d2a38483ebc8f0e6a3d106e7d/artifacts/test.txt\n",
      "dict_keys(['ResponseMetadata', 'AcceptRanges', 'LastModified', 'ContentLength', 'ETag', 'ContentType', 'Metadata', 'Body'])\n",
      "hello_world\n",
      "\n",
      "1/c80ee8cf73fa430eae48f0483fa827a1/artifacts/test.txt\n",
      "dict_keys(['ResponseMetadata', 'AcceptRanges', 'LastModified', 'ContentLength', 'ETag', 'ContentType', 'Metadata', 'Body'])\n",
      "hello_world\n",
      "\n",
      "1/c80ee8cf73fa430eae48f0483fa827a1/artifacts/test22222.txt\n",
      "dict_keys(['ResponseMetadata', 'AcceptRanges', 'LastModified', 'ContentLength', 'ETag', 'ContentType', 'Metadata', 'Body'])\n",
      "hello_world\n",
      "\n",
      "1/ebd4dbceeb6340fdbe8b1dd55bd7f13a/artifacts/test.txt\n",
      "dict_keys(['ResponseMetadata', 'AcceptRanges', 'LastModified', 'ContentLength', 'ETag', 'ContentType', 'Metadata', 'Body'])\n",
      "hello_world\n",
      "\n",
      "1/ebd4dbceeb6340fdbe8b1dd55bd7f13a/artifacts/test22222.txt\n",
      "dict_keys(['ResponseMetadata', 'AcceptRanges', 'LastModified', 'ContentLength', 'ETag', 'ContentType', 'Metadata', 'Body'])\n",
      "hello_world\n",
      "\n",
      "1/ebd4dbceeb6340fdbe8b1dd55bd7f13a/artifacts/testX.txt\n",
      "dict_keys(['ResponseMetadata', 'AcceptRanges', 'LastModified', 'ContentLength', 'ETag', 'ContentType', 'Metadata', 'Body'])\n",
      "hello_world\n",
      "\n"
     ]
    }
   ],
   "source": [
    "if 'Contents' in objects:\n",
    "    for obj in objects['Contents']:\n",
    "        print(obj['Key'])\n",
    "        bucket_data = s3.get_object(Bucket=AWS_S3_BUCKET_MLFLOW,\n",
    "                                    Key=obj['Key'])\n",
    "        print(bucket_data.keys())\n",
    "        data = bucket_data['Body'].read().decode('utf-8')\n",
    "        print(data)\n",
    "        print()"
   ]
  },
  {
   "cell_type": "code",
   "execution_count": 5,
   "id": "8135c2c5-b337-4998-9a63-459055fbeb32",
   "metadata": {},
   "outputs": [
    {
     "name": "stdout",
     "output_type": "stream",
     "text": [
      "Buckets:\n",
      "  userfiles\n"
     ]
    }
   ],
   "source": [
    "response = s3.list_buckets()\n",
    "print(\"Buckets:\")\n",
    "for bucket in response['Buckets']:\n",
    "    print(f'  {bucket[\"Name\"]}')"
   ]
  },
  {
   "cell_type": "code",
   "execution_count": null,
   "id": "8ac3eff6-62ca-45ae-b9fb-ef9e8d09a354",
   "metadata": {},
   "outputs": [],
   "source": []
  }
 ],
 "metadata": {
  "kernelspec": {
   "display_name": "Python 3 (ipykernel)",
   "language": "python",
   "name": "python3"
  },
  "language_info": {
   "codemirror_mode": {
    "name": "ipython",
    "version": 3
   },
   "file_extension": ".py",
   "mimetype": "text/x-python",
   "name": "python",
   "nbconvert_exporter": "python",
   "pygments_lexer": "ipython3",
   "version": "3.11.6"
  }
 },
 "nbformat": 4,
 "nbformat_minor": 5
}
