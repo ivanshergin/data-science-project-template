{
 "cells": [
  {
   "cell_type": "code",
   "execution_count": 14,
   "id": "a50c00c3-f5a0-4c5f-aaa7-f295339042db",
   "metadata": {},
   "outputs": [],
   "source": [
    "import mlflow\n",
    "import os"
   ]
  },
  {
   "cell_type": "code",
   "execution_count": 15,
   "id": "a2a6799b-882c-475d-9b5f-429ccae1ec6a",
   "metadata": {},
   "outputs": [
    {
     "data": {
      "text/plain": [
       "'http://mlflow:5000'"
      ]
     },
     "execution_count": 15,
     "metadata": {},
     "output_type": "execute_result"
    }
   ],
   "source": [
    "MLFLOW_TRACKING_URI = os.getenv('MLFLOW_TRACKING_URI')\n",
    "MLFLOW_TRACKING_URI"
   ]
  },
  {
   "cell_type": "code",
   "execution_count": 16,
   "id": "3bfbfabd-bcbe-455c-b9fd-23864ce21962",
   "metadata": {},
   "outputs": [
    {
     "data": {
      "text/plain": [
       "'http://minio:9000'"
      ]
     },
     "execution_count": 16,
     "metadata": {},
     "output_type": "execute_result"
    }
   ],
   "source": [
    "MLFLOW_S3_ENDPOINT_URL = os.getenv('MLFLOW_S3_ENDPOINT_URL')\n",
    "MLFLOW_S3_ENDPOINT_URL"
   ]
  },
  {
   "cell_type": "code",
   "execution_count": 17,
   "id": "b42fbfeb-9b39-48a5-86f4-7b29a889d25e",
   "metadata": {},
   "outputs": [
    {
     "data": {
      "text/plain": [
       "'s3://userfiles'"
      ]
     },
     "execution_count": 17,
     "metadata": {},
     "output_type": "execute_result"
    }
   ],
   "source": [
    "AWS_S3_BUCKET_MLFLOW = os.getenv('AWS_S3_BUCKET_MLFLOW')\n",
    "s3_bucket = f\"s3://{AWS_S3_BUCKET_MLFLOW}\"\n",
    "s3_bucket"
   ]
  },
  {
   "cell_type": "code",
   "execution_count": 18,
   "id": "5ac361f8-0dd8-46d1-b658-5a1f1b5b92ac",
   "metadata": {},
   "outputs": [],
   "source": [
    "mlflow.set_tracking_uri(uri=MLFLOW_TRACKING_URI)"
   ]
  },
  {
   "cell_type": "code",
   "execution_count": 19,
   "id": "5d214fa0-0d28-4c58-8a44-7e0718b5a398",
   "metadata": {},
   "outputs": [],
   "source": [
    "exp_name = 'mlflow_test_3'"
   ]
  },
  {
   "cell_type": "code",
   "execution_count": 20,
   "id": "ad9cc939-5c2d-4c3b-b959-27bdefcb0be8",
   "metadata": {},
   "outputs": [],
   "source": [
    "# mlflow.create_experiment(exp_name, artifact_location=s3_bucket)"
   ]
  },
  {
   "cell_type": "code",
   "execution_count": 21,
   "id": "e5c4c1b4-a9d5-483e-9a96-c982b2f1a98a",
   "metadata": {},
   "outputs": [],
   "source": [
    "params = {'param_name': 'param_val'}"
   ]
  },
  {
   "cell_type": "code",
   "execution_count": 23,
   "id": "0b55b571-47f7-4167-95ce-45b678d4b662",
   "metadata": {},
   "outputs": [
    {
     "name": "stdout",
     "output_type": "stream",
     "text": [
      "1\n",
      "🏃 View run run_name at: http://mlflow:5000/#/experiments/1/runs/7a5a03c3973944d4ae38b82a64e8485c\n",
      "🧪 View experiment at: http://mlflow:5000/#/experiments/1\n"
     ]
    }
   ],
   "source": [
    "mlflow.set_experiment(exp_name)\n",
    "with mlflow.start_run(\n",
    "        run_name=f\"run_name\",\n",
    "        tags={\"demo\": \"1\"},\n",
    "    ) as exp:\n",
    "    experiment_id = exp.info.experiment_id\n",
    "    print(experiment_id)\n",
    "    \n",
    "    if not os.path.exists(\"./outputs\"):\n",
    "        os.makedirs(\"./outputs\")\n",
    "    with open(\"./outputs/testX.txt\", \"w\") as f:\n",
    "        str_ = \"\"\"\n",
    "        ПОЛУЧИЛОСЬ ПРОКИНУТЬ АРТЕФАКТ В МЛФЛОУ И С3\n",
    "        \"\"\"\n",
    "        f.write(str_)\n",
    "    mlflow.log_artifacts(\"./outputs/\")\n",
    "    mlflow.log_params(params)\n",
    "    mlflow.log_metric('accuracy', 1)"
   ]
  },
  {
   "cell_type": "code",
   "execution_count": null,
   "id": "184a0071-ef2b-4fc0-bab1-8d8162273575",
   "metadata": {},
   "outputs": [],
   "source": []
  },
  {
   "cell_type": "code",
   "execution_count": 11,
   "id": "c5635115-0d87-4b2b-a893-df02327890da",
   "metadata": {},
   "outputs": [
    {
     "name": "stdout",
     "output_type": "stream",
     "text": [
      "<!doctype html><html lang=\"en\"><head><meta charset=\"utf-8\"/><meta name=\"viewport\" content=\"width=device-width,initial-scale=1,shrink-to-fit=no\"/><link rel=\"shortcut icon\" href=\"./static-files/favicon.ico\"/><meta name=\"theme-color\" content=\"#000000\"/><link rel=\"manifest\" href=\"./static-files/manifest.json\" crossorigin=\"use-credentials\"/><title>MLflow</title><script defer=\"defer\" src=\"static-files/static/js/main.3897eab7.js\"></script><link href=\"static-files/static/css/main.fd7f2361.css\" rel=\"stylesheet\"></head><body><noscript>You need to enable JavaScript to run this app.</noscript><div id=\"root\"></div><div id=\"modal\"></div></body></html>curl: (3) URL rejected: No host part in the URL\n"
     ]
    }
   ],
   "source": [
    "! curl $MLFLOW_TRACKING_URI /api/2.0/"
   ]
  },
  {
   "cell_type": "code",
   "execution_count": 12,
   "id": "3ca5b934-fa3e-488d-8b30-992da0ffbd97",
   "metadata": {},
   "outputs": [
    {
     "name": "stdout",
     "output_type": "stream",
     "text": [
      "<!doctype html><html lang=\"en\"><head><meta charset=\"utf-8\"/><meta name=\"viewport\" content=\"width=device-width,initial-scale=1,shrink-to-fit=no\"/><link rel=\"shortcut icon\" href=\"./static-files/favicon.ico\"/><meta name=\"theme-color\" content=\"#000000\"/><link rel=\"manifest\" href=\"./static-files/manifest.json\" crossorigin=\"use-credentials\"/><title>MLflow</title><script defer=\"defer\" src=\"static-files/static/js/main.3897eab7.js\"></script><link href=\"static-files/static/css/main.fd7f2361.css\" rel=\"stylesheet\"></head><body><noscript>You need to enable JavaScript to run this app.</noscript><div id=\"root\"></div><div id=\"modal\"></div></body></html>"
     ]
    }
   ],
   "source": [
    "! curl http://mlflow:5000"
   ]
  },
  {
   "cell_type": "code",
   "execution_count": 13,
   "id": "d8aa006d-369e-45c1-a9c4-2468a7c80086",
   "metadata": {},
   "outputs": [
    {
     "name": "stdout",
     "output_type": "stream",
     "text": [
      "<?xml version=\"1.0\" encoding=\"UTF-8\"?>\n",
      "<Error><Code>AccessDenied</Code><Message>Access Denied.</Message><Resource>/</Resource><RequestId>180870200D871F10</RequestId><HostId>dd9025bab4ad464b049177c95eb6ebf374d3b3fd1af9251148b658df7ac2e3e8</HostId></Error>"
     ]
    }
   ],
   "source": [
    "! curl http://minio:9000"
   ]
  },
  {
   "cell_type": "code",
   "execution_count": null,
   "id": "9995f9ec-299d-4806-9806-4347320f061f",
   "metadata": {},
   "outputs": [],
   "source": []
  }
 ],
 "metadata": {
  "kernelspec": {
   "display_name": "Python 3 (ipykernel)",
   "language": "python",
   "name": "python3"
  },
  "language_info": {
   "codemirror_mode": {
    "name": "ipython",
    "version": 3
   },
   "file_extension": ".py",
   "mimetype": "text/x-python",
   "name": "python",
   "nbconvert_exporter": "python",
   "pygments_lexer": "ipython3",
   "version": "3.11.6"
  }
 },
 "nbformat": 4,
 "nbformat_minor": 5
}
