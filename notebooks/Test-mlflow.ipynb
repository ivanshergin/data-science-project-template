{
 "cells": [
  {
   "cell_type": "code",
   "execution_count": 1,
   "id": "a50c00c3-f5a0-4c5f-aaa7-f295339042db",
   "metadata": {},
   "outputs": [],
   "source": [
    "import mlflow\n",
    "import os"
   ]
  },
  {
   "cell_type": "code",
   "execution_count": 4,
   "id": "a2a6799b-882c-475d-9b5f-429ccae1ec6a",
   "metadata": {},
   "outputs": [],
   "source": [
    "MLFLOW_TRACKING_URI = os.getenv('MLFLOW_TRACKING_URI')"
   ]
  },
  {
   "cell_type": "code",
   "execution_count": 5,
   "id": "5ac361f8-0dd8-46d1-b658-5a1f1b5b92ac",
   "metadata": {},
   "outputs": [],
   "source": [
    "mlflow.set_tracking_uri(uri=MLFLOW_TRACKING_URI)"
   ]
  },
  {
   "cell_type": "code",
   "execution_count": 6,
   "id": "ad9cc939-5c2d-4c3b-b959-27bdefcb0be8",
   "metadata": {},
   "outputs": [
    {
     "data": {
      "text/plain": [
       "<Experiment: artifact_location='/mlflow/artifacts/1', creation_time=1731698765599, experiment_id='1', last_update_time=1731698765599, lifecycle_stage='active', name='mlflow_test', tags={}>"
      ]
     },
     "execution_count": 6,
     "metadata": {},
     "output_type": "execute_result"
    }
   ],
   "source": [
    "exp_name = 'mlflow_test'\n",
    "mlflow.set_experiment(exp_name)"
   ]
  },
  {
   "cell_type": "code",
   "execution_count": 7,
   "id": "e5c4c1b4-a9d5-483e-9a96-c982b2f1a98a",
   "metadata": {},
   "outputs": [],
   "source": [
    "params = {'param_name': 'param_val'}"
   ]
  },
  {
   "cell_type": "code",
   "execution_count": 8,
   "id": "0b55b571-47f7-4167-95ce-45b678d4b662",
   "metadata": {},
   "outputs": [
    {
     "name": "stdout",
     "output_type": "stream",
     "text": [
      "1\n",
      "🏃 View run run_name at: http://mlflow:5000/#/experiments/1/runs/fb6f287c3ab64969a0e55bec90913d00\n",
      "🧪 View experiment at: http://mlflow:5000/#/experiments/1\n"
     ]
    }
   ],
   "source": [
    "mlflow.set_experiment(exp_name)\n",
    "with mlflow.start_run(\n",
    "        run_name=f\"run_name\",\n",
    "        tags={\"demo\": \"1\"},\n",
    "    ) as exp:\n",
    "    experiment_id = exp.info.experiment_id\n",
    "    print(experiment_id)\n",
    "    \n",
    "    mlflow.log_params(params)\n",
    "    mlflow.log_metric('accuracy', 1)"
   ]
  },
  {
   "cell_type": "code",
   "execution_count": 11,
   "id": "c5635115-0d87-4b2b-a893-df02327890da",
   "metadata": {},
   "outputs": [
    {
     "name": "stdout",
     "output_type": "stream",
     "text": [
      "<!doctype html><html lang=\"en\"><head><meta charset=\"utf-8\"/><meta name=\"viewport\" content=\"width=device-width,initial-scale=1,shrink-to-fit=no\"/><link rel=\"shortcut icon\" href=\"./static-files/favicon.ico\"/><meta name=\"theme-color\" content=\"#000000\"/><link rel=\"manifest\" href=\"./static-files/manifest.json\" crossorigin=\"use-credentials\"/><title>MLflow</title><script defer=\"defer\" src=\"static-files/static/js/main.3897eab7.js\"></script><link href=\"static-files/static/css/main.fd7f2361.css\" rel=\"stylesheet\"></head><body><noscript>You need to enable JavaScript to run this app.</noscript><div id=\"root\"></div><div id=\"modal\"></div></body></html>curl: (3) URL rejected: No host part in the URL\n"
     ]
    }
   ],
   "source": [
    "! curl $MLFLOW_TRACKING_URI /api/2.0/"
   ]
  }
 ],
 "metadata": {
  "kernelspec": {
   "display_name": "Python 3 (ipykernel)",
   "language": "python",
   "name": "python3"
  },
  "language_info": {
   "codemirror_mode": {
    "name": "ipython",
    "version": 3
   },
   "file_extension": ".py",
   "mimetype": "text/x-python",
   "name": "python",
   "nbconvert_exporter": "python",
   "pygments_lexer": "ipython3",
   "version": "3.11.6"
  }
 },
 "nbformat": 4,
 "nbformat_minor": 5
}
