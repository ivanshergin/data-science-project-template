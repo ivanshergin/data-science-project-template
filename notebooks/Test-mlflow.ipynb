{
 "cells": [
  {
   "cell_type": "code",
   "execution_count": 1,
   "id": "a50c00c3-f5a0-4c5f-aaa7-f295339042db",
   "metadata": {},
   "outputs": [],
   "source": [
    "import mlflow\n",
    "import os"
   ]
  },
  {
   "cell_type": "code",
   "execution_count": 2,
   "id": "26ead987-32d7-44dd-9580-442dffb1e0c0",
   "metadata": {},
   "outputs": [
    {
     "data": {
      "text/plain": [
       "'http://localhost:5000'"
      ]
     },
     "execution_count": 2,
     "metadata": {},
     "output_type": "execute_result"
    }
   ],
   "source": [
    "os.getenv('MLFLOW_TRACKING_URI')"
   ]
  },
  {
   "cell_type": "code",
   "execution_count": null,
   "id": "71bb938c-c003-4277-b910-2da01e128f95",
   "metadata": {},
   "outputs": [],
   "source": []
  },
  {
   "cell_type": "code",
   "execution_count": 3,
   "id": "a2a6799b-882c-475d-9b5f-429ccae1ec6a",
   "metadata": {},
   "outputs": [
    {
     "data": {
      "text/plain": [
       "'http://localhost:5000'"
      ]
     },
     "execution_count": 3,
     "metadata": {},
     "output_type": "execute_result"
    }
   ],
   "source": [
    "MLFLOW_TRACKING_URI = \"http://127.0.0.1:5000\"\n",
    "MLFLOW_TRACKING_URI = \"http://0.0.0.0:5000\"\n",
    "MLFLOW_TRACKING_URI = \"http://localhost:5000\"\n",
    "os.environ[\"MLFLOW_TRACKING_URI\"] = MLFLOW_TRACKING_URI\n",
    "os.environ[\"MLFLOW_ARTIFACT_URI\"] = MLFLOW_TRACKING_URI\n",
    "val = os.getenv(\"MLFLOW_TRACKING_URI\")\n",
    "val"
   ]
  },
  {
   "cell_type": "code",
   "execution_count": 4,
   "id": "5ac361f8-0dd8-46d1-b658-5a1f1b5b92ac",
   "metadata": {},
   "outputs": [],
   "source": [
    "mlflow.set_tracking_uri(val)"
   ]
  },
  {
   "cell_type": "code",
   "execution_count": 5,
   "id": "e5c4c1b4-a9d5-483e-9a96-c982b2f1a98a",
   "metadata": {},
   "outputs": [],
   "source": [
    "params = {'param_name': 'param_val'}"
   ]
  },
  {
   "cell_type": "code",
   "execution_count": null,
   "id": "0b55b571-47f7-4167-95ce-45b678d4b662",
   "metadata": {},
   "outputs": [],
   "source": [
    "exp_name = 'test-exp-new'\n",
    "mlflow.set_experiment(exp_name)\n",
    "with mlflow.start_run(\n",
    "        run_name=f\"run_name\",\n",
    "        tags={\"demo\": \"1\"},\n",
    "    ) as exp:\n",
    "    # get experiment id\n",
    "    experiment_id = exp.info.experiment_id\n",
    "    print(experiment_id)\n",
    "    \n",
    "    mlflow.log_params(params)\n",
    "    mlflow.log_metric('accuracy', 1)"
   ]
  },
  {
   "cell_type": "code",
   "execution_count": 23,
   "id": "c5635115-0d87-4b2b-a893-df02327890da",
   "metadata": {},
   "outputs": [
    {
     "name": "stdout",
     "output_type": "stream",
     "text": [
      "curl: (7) Failed to connect to localhost port 5000 after 0 ms: Couldn't connect to server\n"
     ]
    }
   ],
   "source": [
    "! curl http:/localhost:5000/api/2.0/"
   ]
  }
 ],
 "metadata": {
  "kernelspec": {
   "display_name": "Python 3 (ipykernel)",
   "language": "python",
   "name": "python3"
  },
  "language_info": {
   "codemirror_mode": {
    "name": "ipython",
    "version": 3
   },
   "file_extension": ".py",
   "mimetype": "text/x-python",
   "name": "python",
   "nbconvert_exporter": "python",
   "pygments_lexer": "ipython3",
   "version": "3.11.6"
  }
 },
 "nbformat": 4,
 "nbformat_minor": 5
}
